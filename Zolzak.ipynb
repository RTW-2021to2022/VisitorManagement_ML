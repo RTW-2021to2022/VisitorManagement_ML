{
 "cells": [
  {
   "cell_type": "code",
   "execution_count": 2,
   "id": "7c3b8c52",
   "metadata": {},
   "outputs": [
    {
     "name": "stdout",
     "output_type": "stream",
     "text": [
      "\n",
      " enter user id end press <return> ==> 9620\n",
      "\n",
      " [INFO] Initializing face capture. Look the camera and wait ...\n",
      "\n",
      " [INFO] Exiting Program and cleanup stuff\n",
      "['9620']\n"
     ]
    }
   ],
   "source": [
    "import cv2\n",
    "\n",
    "#classifier\n",
    "faceCascade = cv2.CascadeClassifier('../.././anaconda3\\envs\\py38\\Library\\etc\\haarcascades/haarcascade_frontalface_default.xml')\n",
    "#C:\\Users\\yewon\\Anaconda3\\envs\\studyDL\\Lib\\site-packages\\cv2\\data\n",
    "\n",
    "#video caputure setting\n",
    "capture = cv2.VideoCapture(0) # initialize, # is camera number\n",
    "capture.set(cv2.CAP_PROP_FRAME_WIDTH,1280) #CAP_PROP_FRAME_WIDTH == 3\n",
    "capture.set(cv2.CAP_PROP_FRAME_HEIGHT,720) #CAP_PROP_FRAME_HEIGHT == 4\n",
    "# 정상작동시 true\n",
    "\n",
    "#console message  - int형으로 입력받음\n",
    "names = []\n",
    "\n",
    "face_id = input('\\n enter user id end press <return> ==> ')\n",
    "names.append(face_id)    # names를 append 하게 함\n",
    "print(\"\\n [INFO] Initializing face capture. Look the camera and wait ...\")\n",
    "\n",
    "count = 0 # # of caputre face images\n",
    "#영상 처리 및 출력\n",
    "while True: \n",
    "    ret, frame = capture.read() #카메라 상태 및 프레임\n",
    "    #cf. frame = cv2.flip(frame, -1) #상하반전\n",
    "    gray = cv2.cvtColor(frame, cv2.COLOR_BGR2GRAY) #흑백으로\n",
    "    faces = faceCascade.detectMultiScale(\n",
    "        gray,#검출하고자 하는 원본이미지\n",
    "        scaleFactor = 1.2, #검색 윈도우 확대 비율, 1보다 커야 한다\n",
    "        minNeighbors = 6, #얼굴 사이 최소 간격(픽셀)\n",
    "        minSize=(20,20) #얼굴 최소 크기. 이것보다 작으면 무시\n",
    "    )\n",
    "\n",
    "    #얼굴에 대해 rectangle 출력\n",
    "    for (x,y,w,h) in faces:\n",
    "        cv2.rectangle(frame,(x,y),(x+w,y+h),(255,0,0),2)\n",
    "        #inputOutputArray, point1 , 2, colorBGR, thickness)\n",
    "        count += 1\n",
    "        cv2.imwrite(\"./dataset/User.\"+str(face_id)+'.'+str(count)+\".jpg\",gray[y:y+h, x:x+w])\n",
    "        \n",
    "    cv2.imshow('image',frame)\n",
    "\n",
    "\t#종료조건\n",
    "    if cv2.waitKey(1) > 0 : break #키 입력이 있을 때 반복문 종료\n",
    "    elif count >= 100 : break #100 face sample\n",
    "\n",
    "\n",
    "        # 나중에 지워도 될 듯\n",
    "print(\"\\n [INFO] Exiting Program and cleanup stuff\")\n",
    "print(names)\n",
    "\n",
    "capture.release() #메모리 해제\n",
    "cv2.destroyAllWindows()#모든 윈도우 창 닫기\n"
   ]
  },
  {
   "cell_type": "markdown",
   "id": "dfa164f5",
   "metadata": {},
   "source": [
    "얼굴 수집 후 학습"
   ]
  },
  {
   "cell_type": "code",
   "execution_count": 3,
   "id": "61be97e3",
   "metadata": {},
   "outputs": [
    {
     "name": "stdout",
     "output_type": "stream",
     "text": [
      "\n",
      " [INFO] Training faces. It will take a few seconds. Wait ...\n"
     ]
    },
    {
     "ename": "UnidentifiedImageError",
     "evalue": "cannot identify image file 'dataset\\\\readuser.py'",
     "output_type": "error",
     "traceback": [
      "\u001b[1;31m---------------------------------------------------------------------------\u001b[0m",
      "\u001b[1;31mUnidentifiedImageError\u001b[0m                    Traceback (most recent call last)",
      "Input \u001b[1;32mIn [3]\u001b[0m, in \u001b[0;36m<cell line: 37>\u001b[1;34m()\u001b[0m\n\u001b[0;32m     33\u001b[0m     \u001b[38;5;28;01mreturn\u001b[39;00m faceSamples, ids\n\u001b[0;32m     36\u001b[0m \u001b[38;5;28mprint\u001b[39m(\u001b[38;5;124m'\u001b[39m\u001b[38;5;130;01m\\n\u001b[39;00m\u001b[38;5;124m [INFO] Training faces. It will take a few seconds. Wait ...\u001b[39m\u001b[38;5;124m'\u001b[39m)\n\u001b[1;32m---> 37\u001b[0m faces, ids \u001b[38;5;241m=\u001b[39m \u001b[43mgetImagesAndLabels\u001b[49m\u001b[43m(\u001b[49m\u001b[43mpath\u001b[49m\u001b[43m)\u001b[49m\n\u001b[0;32m     38\u001b[0m \u001b[38;5;66;03m# print(ids)\u001b[39;00m\n\u001b[0;32m     39\u001b[0m recognizer\u001b[38;5;241m.\u001b[39mtrain(faces,np\u001b[38;5;241m.\u001b[39marray(ids)) \u001b[38;5;66;03m#학습\u001b[39;00m\n",
      "Input \u001b[1;32mIn [3]\u001b[0m, in \u001b[0;36mgetImagesAndLabels\u001b[1;34m(path)\u001b[0m\n\u001b[0;32m     18\u001b[0m ids \u001b[38;5;241m=\u001b[39m []\n\u001b[0;32m     19\u001b[0m \u001b[38;5;28;01mfor\u001b[39;00m imagePath \u001b[38;5;129;01min\u001b[39;00m imagePaths: \u001b[38;5;66;03m#각 파일마다\u001b[39;00m\n\u001b[0;32m     20\u001b[0m     \u001b[38;5;66;03m#흑백 변환\u001b[39;00m\n\u001b[1;32m---> 21\u001b[0m     PIL_img \u001b[38;5;241m=\u001b[39m \u001b[43mImage\u001b[49m\u001b[38;5;241;43m.\u001b[39;49m\u001b[43mopen\u001b[49m\u001b[43m(\u001b[49m\u001b[43mimagePath\u001b[49m\u001b[43m)\u001b[49m\u001b[38;5;241m.\u001b[39mconvert(\u001b[38;5;124m'\u001b[39m\u001b[38;5;124mL\u001b[39m\u001b[38;5;124m'\u001b[39m) \u001b[38;5;66;03m#L : 8 bit pixel, bw\u001b[39;00m\n\u001b[0;32m     22\u001b[0m     img_numpy \u001b[38;5;241m=\u001b[39m np\u001b[38;5;241m.\u001b[39marray(PIL_img, \u001b[38;5;124m'\u001b[39m\u001b[38;5;124muint8\u001b[39m\u001b[38;5;124m'\u001b[39m)\n\u001b[0;32m     24\u001b[0m     \u001b[38;5;66;03m#user id\u001b[39;00m\n",
      "File \u001b[1;32m~\\anaconda3\\envs\\py38\\lib\\site-packages\\PIL\\Image.py:3147\u001b[0m, in \u001b[0;36mopen\u001b[1;34m(fp, mode, formats)\u001b[0m\n\u001b[0;32m   3145\u001b[0m \u001b[38;5;28;01mfor\u001b[39;00m message \u001b[38;5;129;01min\u001b[39;00m accept_warnings:\n\u001b[0;32m   3146\u001b[0m     warnings\u001b[38;5;241m.\u001b[39mwarn(message)\n\u001b[1;32m-> 3147\u001b[0m \u001b[38;5;28;01mraise\u001b[39;00m UnidentifiedImageError(\n\u001b[0;32m   3148\u001b[0m     \u001b[38;5;124m\"\u001b[39m\u001b[38;5;124mcannot identify image file \u001b[39m\u001b[38;5;132;01m%r\u001b[39;00m\u001b[38;5;124m\"\u001b[39m \u001b[38;5;241m%\u001b[39m (filename \u001b[38;5;28;01mif\u001b[39;00m filename \u001b[38;5;28;01melse\u001b[39;00m fp)\n\u001b[0;32m   3149\u001b[0m )\n",
      "\u001b[1;31mUnidentifiedImageError\u001b[0m: cannot identify image file 'dataset\\\\readuser.py'"
     ]
    }
   ],
   "source": [
    "import cv2\n",
    "import numpy as np #배열 계산 용이\n",
    "from PIL import Image #python imaging library\n",
    "import os\n",
    "\n",
    "path = 'dataset' #경로 (dataset 폴더)\n",
    "recognizer = cv2.face.LBPHFaceRecognizer_create()\n",
    "#detector = cv2.CascadeClassifier(cv2.data.haarcascades+'haarcascade_frontalface_default.xml')\n",
    "detector = cv2.CascadeClassifier(r\"C:\\Users\\Yewon\\anaconda3\\envs\\py38\\Library\\etc\\haarcascades\\haarcascade_frontalface_default.xml\")\n",
    "# C:\\Users\\Yewon\\anaconda3\\envs\\py38\\Library\\etc\\haarcascades\n",
    "\n",
    "def getImagesAndLabels(path):\n",
    "    imagePaths = [os.path.join(path,f) for f in os.listdir(path)]\n",
    "    #listdir : 해당 디렉토리 내 파일 리스트\n",
    "    #path + file Name : 경로 list 만들기\n",
    "\n",
    "    faceSamples = []\n",
    "    ids = []\n",
    "    for imagePath in imagePaths: #각 파일마다\n",
    "        #흑백 변환\n",
    "        PIL_img = Image.open(imagePath).convert('L') #L : 8 bit pixel, bw\n",
    "        img_numpy = np.array(PIL_img, 'uint8')\n",
    "\n",
    "        #user id\n",
    "        id = int(os.path.split(imagePath)[-1].split(\".\")[1])#마지막 index : -1\n",
    "        \n",
    "        #얼굴 샘플\n",
    "        faces = detector.detectMultiScale(img_numpy)\n",
    "        for(x,y,w,h) in faces:\n",
    "            faceSamples.append(img_numpy[y:y+h,x:x+w])\n",
    "            ids.append(id)\n",
    "\n",
    "    return faceSamples, ids\n",
    "\n",
    "\n",
    "print('\\n [INFO] Training faces. It will take a few seconds. Wait ...')\n",
    "faces, ids = getImagesAndLabels(path)\n",
    "# print(ids)\n",
    "recognizer.train(faces,np.array(ids)) #학습\n",
    "\n",
    "recognizer.write('trainer/trainer.yml')   # trainer 폴더 만들기\n",
    "print('\\n [INFO] {0} faces trained. Exiting Program'.format(len(np.unique(ids))))"
   ]
  },
  {
   "cell_type": "code",
   "execution_count": 8,
   "id": "37dcdf30",
   "metadata": {},
   "outputs": [
    {
     "name": "stdout",
     "output_type": "stream",
     "text": [
      "\n",
      " [INFO] Exiting Program and cleanup stuff\n"
     ]
    }
   ],
   "source": [
    "import cv2\n",
    "import numpy as np\n",
    "\n",
    "recognizer = cv2.face.LBPHFaceRecognizer_create()\n",
    "recognizer.read('trainer/trainer.yml')\n",
    "cascadePath = 'haarcascade_frontalface_default.xml'\n",
    "faceCascade = cv2.CascadeClassifier(r\"C:\\Users\\Yewon\\anaconda3\\envs\\py38\\Library\\etc\\haarcascades\\haarcascade_frontalface_default.xml\")\n",
    "\n",
    "font = cv2.FONT_HERSHEY_SIMPLEX\n",
    "\n",
    "\n",
    "# names = ['None','sumin','dongjun','minji']\n",
    "\n",
    "cam = cv2.VideoCapture(0)\n",
    "cam.set(cv2.CAP_PROP_FRAME_WIDTH, 1980)\n",
    "cam.set(cv2.CAP_PROP_FRAME_HEIGHT, 720)\n",
    "\n",
    "minW = 0.1 * cam.get(cv2.CAP_PROP_FRAME_WIDTH)\n",
    "minH = 0.1 * cam.get(cv2.CAP_PROP_FRAME_HEIGHT)\n",
    "\n",
    "\n",
    "#print(ids)\n",
    "#names.append(ids)   # names 지정\n",
    "\n",
    "# print(names)\n",
    "\n",
    "while True:\n",
    "    ret, img = cam.read()\n",
    "    gray = cv2.cvtColor(img, cv2.COLOR_BGR2GRAY)\n",
    "\n",
    "    faces = faceCascade.detectMultiScale(\n",
    "        gray,\n",
    "        scaleFactor=1.2,\n",
    "        minNeighbors=6,\n",
    "        minSize=(int(minW), int(minH))\n",
    "    )\n",
    "\n",
    "    for(x,y,w,h) in faces:\n",
    "        cv2.rectangle(img, (x,y), (x+w,y+h), (0,255,0),2)\n",
    "        id, confidence = recognizer.predict(gray[y:y+h, x:x+w])\n",
    "        \n",
    "        if confidence < 55 :\n",
    "            put_name = id\n",
    "            # name을 거치지 않고 id를 출력하게 함. 이후 출력된 id는 db로 보내야함\n",
    "            \n",
    "        else:\n",
    "            put_name = \"unknown\"\n",
    "        \n",
    "        confidence = \"  {0}%\".format(round(100-confidence))\n",
    "\n",
    "        cv2.putText(img,str(id), (x+5,y-5),font,1,(255,255,255),2)\n",
    "        cv2.putText(img,str(confidence), (x+5,y+h-5),font,1,(255,255,0),1)\n",
    "    \n",
    "    cv2.imshow('camera',img)\n",
    "    if cv2.waitKey(1) > 0 : break\n",
    "\n",
    "print(\"\\n [INFO] Exiting Program and cleanup stuff\")\n",
    "cam.release()\n",
    "cv2.destroyAllWindows()"
   ]
  },
  {
   "cell_type": "code",
   "execution_count": null,
   "id": "db0bd24b",
   "metadata": {},
   "outputs": [],
   "source": []
  },
  {
   "cell_type": "code",
   "execution_count": null,
   "id": "b483892f",
   "metadata": {},
   "outputs": [],
   "source": []
  },
  {
   "cell_type": "code",
   "execution_count": null,
   "id": "2092db58",
   "metadata": {},
   "outputs": [],
   "source": []
  },
  {
   "cell_type": "code",
   "execution_count": null,
   "id": "abfd1024",
   "metadata": {},
   "outputs": [],
   "source": []
  }
 ],
 "metadata": {
  "kernelspec": {
   "display_name": "Python 3 (ipykernel)",
   "language": "python",
   "name": "python3"
  },
  "language_info": {
   "codemirror_mode": {
    "name": "ipython",
    "version": 3
   },
   "file_extension": ".py",
   "mimetype": "text/x-python",
   "name": "python",
   "nbconvert_exporter": "python",
   "pygments_lexer": "ipython3",
   "version": "3.8.8"
  }
 },
 "nbformat": 4,
 "nbformat_minor": 5
}
